{
  "nbformat": 4,
  "nbformat_minor": 0,
  "metadata": {
    "colab": {
      "provenance": [],
      "authorship_tag": "ABX9TyMmSscWRVuGbDOlvkvpLYj4",
      "include_colab_link": true
    },
    "kernelspec": {
      "name": "python3",
      "display_name": "Python 3"
    },
    "language_info": {
      "name": "python"
    }
  },
  "cells": [
    {
      "cell_type": "markdown",
      "metadata": {
        "id": "view-in-github",
        "colab_type": "text"
      },
      "source": [
        "<a href=\"https://colab.research.google.com/github/AndrePud/PortfolioDataProject/blob/main/Pizza_Code.ipynb\" target=\"_parent\"><img src=\"https://colab.research.google.com/assets/colab-badge.svg\" alt=\"Open In Colab\"/></a>"
      ]
    },
    {
      "cell_type": "code",
      "source": [
        "import pandas as pd\n",
        "import pandas as io"
      ],
      "metadata": {
        "id": "J2XVmTyapVoK"
      },
      "execution_count": null,
      "outputs": []
    },
    {
      "cell_type": "code",
      "execution_count": null,
      "metadata": {
        "id": "-JCXSzrytcwz",
        "colab": {
          "resources": {
            "http://localhost:8080/nbextensions/google.colab/files.js": {
              "data": "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",
              "ok": true,
              "headers": [
                [
                  "content-type",
                  "application/javascript"
                ]
              ],
              "status": 200,
              "status_text": ""
            }
          },
          "base_uri": "https://localhost:8080/",
          "height": 74
        },
        "outputId": "91daf944-a4af-4d3c-fb26-c2a04b75fc23"
      },
      "outputs": [
        {
          "output_type": "display_data",
          "data": {
            "text/plain": [
              "<IPython.core.display.HTML object>"
            ],
            "text/html": [
              "\n",
              "     <input type=\"file\" id=\"files-c1c4d217-b18c-46f3-b6f3-23305b8b6161\" name=\"files[]\" multiple disabled\n",
              "        style=\"border:none\" />\n",
              "     <output id=\"result-c1c4d217-b18c-46f3-b6f3-23305b8b6161\">\n",
              "      Upload widget is only available when the cell has been executed in the\n",
              "      current browser session. Please rerun this cell to enable.\n",
              "      </output>\n",
              "      <script src=\"/nbextensions/google.colab/files.js\"></script> "
            ]
          },
          "metadata": {}
        },
        {
          "output_type": "stream",
          "name": "stdout",
          "text": [
            "Saving Pizza (1).csv to Pizza (1) (1).csv\n"
          ]
        }
      ],
      "source": [
        "from google.colab import files\n",
        "uploaded = files.upload()"
      ]
    },
    {
      "cell_type": "code",
      "source": [
        "Pizz_b = pd.read_csv('Pizza (1).csv')"
      ],
      "metadata": {
        "id": "X19CYs7ToF1V"
      },
      "execution_count": null,
      "outputs": []
    },
    {
      "cell_type": "code",
      "source": [
        "Pizz_b.describe()"
      ],
      "metadata": {
        "id": "6Iz3D8PyqqMD",
        "colab": {
          "base_uri": "https://localhost:8080/",
          "height": 300
        },
        "outputId": "5ba93ad9-2ff4-4a0d-f144-183dc36ffd49"
      },
      "execution_count": null,
      "outputs": [
        {
          "output_type": "execute_result",
          "data": {
            "text/plain": [
              "           latitude     longitude  menus.amountMax  menus.amountMin  \\\n",
              "count  10000.000000  10000.000000     10000.000000     10000.000000   \n",
              "mean      38.371895    -90.063800        14.032670        13.416902   \n",
              "std        4.573537     17.340379        17.607233        10.742678   \n",
              "min       21.421326   -157.802443         0.000000         0.000000   \n",
              "25%       34.422946   -104.801126         8.490000         8.000000   \n",
              "50%       40.118880    -82.909949        13.390000        12.990000   \n",
              "75%       40.905048    -75.194741        17.950000        16.990000   \n",
              "max       64.850500    -71.946170      1395.000000       243.000000   \n",
              "\n",
              "       priceRangeMin  priceRangeMax  Unnamed: 24  Unnamed: 25  \n",
              "count   10000.000000   10000.000000          0.0          0.0  \n",
              "mean        4.655500      27.764200          NaN          NaN  \n",
              "std         9.828412       6.017526          NaN          NaN  \n",
              "min         0.000000       7.000000          NaN          NaN  \n",
              "25%         0.000000      25.000000          NaN          NaN  \n",
              "50%         0.000000      25.000000          NaN          NaN  \n",
              "75%         0.000000      25.000000          NaN          NaN  \n",
              "max        50.000000      55.000000          NaN          NaN  "
            ],
            "text/html": [
              "\n",
              "  <div id=\"df-7f9da64d-4129-492e-b559-86871b3e6cfc\">\n",
              "    <div class=\"colab-df-container\">\n",
              "      <div>\n",
              "<style scoped>\n",
              "    .dataframe tbody tr th:only-of-type {\n",
              "        vertical-align: middle;\n",
              "    }\n",
              "\n",
              "    .dataframe tbody tr th {\n",
              "        vertical-align: top;\n",
              "    }\n",
              "\n",
              "    .dataframe thead th {\n",
              "        text-align: right;\n",
              "    }\n",
              "</style>\n",
              "<table border=\"1\" class=\"dataframe\">\n",
              "  <thead>\n",
              "    <tr style=\"text-align: right;\">\n",
              "      <th></th>\n",
              "      <th>latitude</th>\n",
              "      <th>longitude</th>\n",
              "      <th>menus.amountMax</th>\n",
              "      <th>menus.amountMin</th>\n",
              "      <th>priceRangeMin</th>\n",
              "      <th>priceRangeMax</th>\n",
              "      <th>Unnamed: 24</th>\n",
              "      <th>Unnamed: 25</th>\n",
              "    </tr>\n",
              "  </thead>\n",
              "  <tbody>\n",
              "    <tr>\n",
              "      <th>count</th>\n",
              "      <td>10000.000000</td>\n",
              "      <td>10000.000000</td>\n",
              "      <td>10000.000000</td>\n",
              "      <td>10000.000000</td>\n",
              "      <td>10000.000000</td>\n",
              "      <td>10000.000000</td>\n",
              "      <td>0.0</td>\n",
              "      <td>0.0</td>\n",
              "    </tr>\n",
              "    <tr>\n",
              "      <th>mean</th>\n",
              "      <td>38.371895</td>\n",
              "      <td>-90.063800</td>\n",
              "      <td>14.032670</td>\n",
              "      <td>13.416902</td>\n",
              "      <td>4.655500</td>\n",
              "      <td>27.764200</td>\n",
              "      <td>NaN</td>\n",
              "      <td>NaN</td>\n",
              "    </tr>\n",
              "    <tr>\n",
              "      <th>std</th>\n",
              "      <td>4.573537</td>\n",
              "      <td>17.340379</td>\n",
              "      <td>17.607233</td>\n",
              "      <td>10.742678</td>\n",
              "      <td>9.828412</td>\n",
              "      <td>6.017526</td>\n",
              "      <td>NaN</td>\n",
              "      <td>NaN</td>\n",
              "    </tr>\n",
              "    <tr>\n",
              "      <th>min</th>\n",
              "      <td>21.421326</td>\n",
              "      <td>-157.802443</td>\n",
              "      <td>0.000000</td>\n",
              "      <td>0.000000</td>\n",
              "      <td>0.000000</td>\n",
              "      <td>7.000000</td>\n",
              "      <td>NaN</td>\n",
              "      <td>NaN</td>\n",
              "    </tr>\n",
              "    <tr>\n",
              "      <th>25%</th>\n",
              "      <td>34.422946</td>\n",
              "      <td>-104.801126</td>\n",
              "      <td>8.490000</td>\n",
              "      <td>8.000000</td>\n",
              "      <td>0.000000</td>\n",
              "      <td>25.000000</td>\n",
              "      <td>NaN</td>\n",
              "      <td>NaN</td>\n",
              "    </tr>\n",
              "    <tr>\n",
              "      <th>50%</th>\n",
              "      <td>40.118880</td>\n",
              "      <td>-82.909949</td>\n",
              "      <td>13.390000</td>\n",
              "      <td>12.990000</td>\n",
              "      <td>0.000000</td>\n",
              "      <td>25.000000</td>\n",
              "      <td>NaN</td>\n",
              "      <td>NaN</td>\n",
              "    </tr>\n",
              "    <tr>\n",
              "      <th>75%</th>\n",
              "      <td>40.905048</td>\n",
              "      <td>-75.194741</td>\n",
              "      <td>17.950000</td>\n",
              "      <td>16.990000</td>\n",
              "      <td>0.000000</td>\n",
              "      <td>25.000000</td>\n",
              "      <td>NaN</td>\n",
              "      <td>NaN</td>\n",
              "    </tr>\n",
              "    <tr>\n",
              "      <th>max</th>\n",
              "      <td>64.850500</td>\n",
              "      <td>-71.946170</td>\n",
              "      <td>1395.000000</td>\n",
              "      <td>243.000000</td>\n",
              "      <td>50.000000</td>\n",
              "      <td>55.000000</td>\n",
              "      <td>NaN</td>\n",
              "      <td>NaN</td>\n",
              "    </tr>\n",
              "  </tbody>\n",
              "</table>\n",
              "</div>\n",
              "      <button class=\"colab-df-convert\" onclick=\"convertToInteractive('df-7f9da64d-4129-492e-b559-86871b3e6cfc')\"\n",
              "              title=\"Convert this dataframe to an interactive table.\"\n",
              "              style=\"display:none;\">\n",
              "        \n",
              "  <svg xmlns=\"http://www.w3.org/2000/svg\" height=\"24px\"viewBox=\"0 0 24 24\"\n",
              "       width=\"24px\">\n",
              "    <path d=\"M0 0h24v24H0V0z\" fill=\"none\"/>\n",
              "    <path d=\"M18.56 5.44l.94 2.06.94-2.06 2.06-.94-2.06-.94-.94-2.06-.94 2.06-2.06.94zm-11 1L8.5 8.5l.94-2.06 2.06-.94-2.06-.94L8.5 2.5l-.94 2.06-2.06.94zm10 10l.94 2.06.94-2.06 2.06-.94-2.06-.94-.94-2.06-.94 2.06-2.06.94z\"/><path d=\"M17.41 7.96l-1.37-1.37c-.4-.4-.92-.59-1.43-.59-.52 0-1.04.2-1.43.59L10.3 9.45l-7.72 7.72c-.78.78-.78 2.05 0 2.83L4 21.41c.39.39.9.59 1.41.59.51 0 1.02-.2 1.41-.59l7.78-7.78 2.81-2.81c.8-.78.8-2.07 0-2.86zM5.41 20L4 18.59l7.72-7.72 1.47 1.35L5.41 20z\"/>\n",
              "  </svg>\n",
              "      </button>\n",
              "      \n",
              "  <style>\n",
              "    .colab-df-container {\n",
              "      display:flex;\n",
              "      flex-wrap:wrap;\n",
              "      gap: 12px;\n",
              "    }\n",
              "\n",
              "    .colab-df-convert {\n",
              "      background-color: #E8F0FE;\n",
              "      border: none;\n",
              "      border-radius: 50%;\n",
              "      cursor: pointer;\n",
              "      display: none;\n",
              "      fill: #1967D2;\n",
              "      height: 32px;\n",
              "      padding: 0 0 0 0;\n",
              "      width: 32px;\n",
              "    }\n",
              "\n",
              "    .colab-df-convert:hover {\n",
              "      background-color: #E2EBFA;\n",
              "      box-shadow: 0px 1px 2px rgba(60, 64, 67, 0.3), 0px 1px 3px 1px rgba(60, 64, 67, 0.15);\n",
              "      fill: #174EA6;\n",
              "    }\n",
              "\n",
              "    [theme=dark] .colab-df-convert {\n",
              "      background-color: #3B4455;\n",
              "      fill: #D2E3FC;\n",
              "    }\n",
              "\n",
              "    [theme=dark] .colab-df-convert:hover {\n",
              "      background-color: #434B5C;\n",
              "      box-shadow: 0px 1px 3px 1px rgba(0, 0, 0, 0.15);\n",
              "      filter: drop-shadow(0px 1px 2px rgba(0, 0, 0, 0.3));\n",
              "      fill: #FFFFFF;\n",
              "    }\n",
              "  </style>\n",
              "\n",
              "      <script>\n",
              "        const buttonEl =\n",
              "          document.querySelector('#df-7f9da64d-4129-492e-b559-86871b3e6cfc button.colab-df-convert');\n",
              "        buttonEl.style.display =\n",
              "          google.colab.kernel.accessAllowed ? 'block' : 'none';\n",
              "\n",
              "        async function convertToInteractive(key) {\n",
              "          const element = document.querySelector('#df-7f9da64d-4129-492e-b559-86871b3e6cfc');\n",
              "          const dataTable =\n",
              "            await google.colab.kernel.invokeFunction('convertToInteractive',\n",
              "                                                     [key], {});\n",
              "          if (!dataTable) return;\n",
              "\n",
              "          const docLinkHtml = 'Like what you see? Visit the ' +\n",
              "            '<a target=\"_blank\" href=https://colab.research.google.com/notebooks/data_table.ipynb>data table notebook</a>'\n",
              "            + ' to learn more about interactive tables.';\n",
              "          element.innerHTML = '';\n",
              "          dataTable['output_type'] = 'display_data';\n",
              "          await google.colab.output.renderOutput(dataTable, element);\n",
              "          const docLink = document.createElement('div');\n",
              "          docLink.innerHTML = docLinkHtml;\n",
              "          element.appendChild(docLink);\n",
              "        }\n",
              "      </script>\n",
              "    </div>\n",
              "  </div>\n",
              "  "
            ]
          },
          "metadata": {},
          "execution_count": 42
        }
      ]
    },
    {
      "cell_type": "markdown",
      "source": [
        "Using the .describe() method to discover the mean, std, min and max of the numeric variables."
      ],
      "metadata": {
        "id": "Pgv5v0R7m6Nj"
      }
    },
    {
      "cell_type": "code",
      "source": [
        "Pizz_b['latitude'].median()"
      ],
      "metadata": {
        "colab": {
          "base_uri": "https://localhost:8080/"
        },
        "id": "Pl4G2v2AmRoO",
        "outputId": "1ee749df-0b14-4c7c-a00f-83c92488ed5d"
      },
      "execution_count": null,
      "outputs": [
        {
          "output_type": "execute_result",
          "data": {
            "text/plain": [
              "40.1188802"
            ]
          },
          "metadata": {},
          "execution_count": 43
        }
      ]
    },
    {
      "cell_type": "code",
      "source": [
        "Pizz_b['longitude'].median()"
      ],
      "metadata": {
        "colab": {
          "base_uri": "https://localhost:8080/"
        },
        "id": "3NjKvGVqmuE5",
        "outputId": "5e34d45b-2457-4729-80d1-cc58ad8a4a41"
      },
      "execution_count": null,
      "outputs": [
        {
          "output_type": "execute_result",
          "data": {
            "text/plain": [
              "-82.909949"
            ]
          },
          "metadata": {},
          "execution_count": 44
        }
      ]
    },
    {
      "cell_type": "code",
      "source": [
        "Pizz_b['menus.amountMax'].median()"
      ],
      "metadata": {
        "colab": {
          "base_uri": "https://localhost:8080/"
        },
        "id": "0SNtvh47m1cW",
        "outputId": "5b3f85f4-29ea-41b0-8778-d203cfd5ee57"
      },
      "execution_count": null,
      "outputs": [
        {
          "output_type": "execute_result",
          "data": {
            "text/plain": [
              "13.39"
            ]
          },
          "metadata": {},
          "execution_count": 45
        }
      ]
    },
    {
      "cell_type": "code",
      "source": [
        "Pizz_b['menus.amountMin'].median()"
      ],
      "metadata": {
        "colab": {
          "base_uri": "https://localhost:8080/"
        },
        "id": "k_oYWPIrnWRF",
        "outputId": "9ed71214-cb5c-4eed-d4d2-b25eb1c4e653"
      },
      "execution_count": null,
      "outputs": [
        {
          "output_type": "execute_result",
          "data": {
            "text/plain": [
              "12.99"
            ]
          },
          "metadata": {},
          "execution_count": 46
        }
      ]
    },
    {
      "cell_type": "code",
      "source": [
        "Pizz_b['priceRangeMin'].median()"
      ],
      "metadata": {
        "colab": {
          "base_uri": "https://localhost:8080/"
        },
        "id": "Oouw_yVTndJo",
        "outputId": "b803b975-8a13-4350-fec8-127a0da2fefe"
      },
      "execution_count": null,
      "outputs": [
        {
          "output_type": "execute_result",
          "data": {
            "text/plain": [
              "0.0"
            ]
          },
          "metadata": {},
          "execution_count": 47
        }
      ]
    },
    {
      "cell_type": "code",
      "source": [
        "Pizz_b['priceRangeMax'].median()"
      ],
      "metadata": {
        "colab": {
          "base_uri": "https://localhost:8080/"
        },
        "id": "D8cXGrNJno3n",
        "outputId": "4208d3e4-a6a3-464b-9121-cffadfc230b9"
      },
      "execution_count": null,
      "outputs": [
        {
          "output_type": "execute_result",
          "data": {
            "text/plain": [
              "25.0"
            ]
          },
          "metadata": {},
          "execution_count": 48
        }
      ]
    },
    {
      "cell_type": "markdown",
      "source": [
        "Then using the .median(), I was able to draw out the median number for the numeric variables."
      ],
      "metadata": {
        "id": "CfLKZaDfnFqY"
      }
    },
    {
      "cell_type": "code",
      "source": [
        "Pizz_b['postalCode'].describe()"
      ],
      "metadata": {
        "colab": {
          "base_uri": "https://localhost:8080/"
        },
        "id": "BPgLWWKKpVTP",
        "outputId": "d4d0ccd2-ff73-4ef0-8037-fd80af2b2d7f"
      },
      "execution_count": null,
      "outputs": [
        {
          "output_type": "execute_result",
          "data": {
            "text/plain": [
              "count      9996\n",
              "unique     1771\n",
              "top       10016\n",
              "freq        102\n",
              "Name: postalCode, dtype: object"
            ]
          },
          "metadata": {},
          "execution_count": 49
        }
      ]
    },
    {
      "cell_type": "code",
      "source": [
        "Pizz_b['address'].describe()"
      ],
      "metadata": {
        "colab": {
          "base_uri": "https://localhost:8080/"
        },
        "id": "9chs-5bFoQGs",
        "outputId": "1e4ab70f-39f1-4cfc-d4ea-4c6843cbaa02"
      },
      "execution_count": null,
      "outputs": [
        {
          "output_type": "execute_result",
          "data": {
            "text/plain": [
              "count                 10000\n",
              "unique                 2278\n",
              "top       6501 Kissena Blvd\n",
              "freq                     68\n",
              "Name: address, dtype: object"
            ]
          },
          "metadata": {},
          "execution_count": 50
        }
      ]
    },
    {
      "cell_type": "code",
      "source": [
        "Pizz_b['categories'].describe()"
      ],
      "metadata": {
        "colab": {
          "base_uri": "https://localhost:8080/"
        },
        "id": "Eq7dFniXp3F6",
        "outputId": "4d01adb7-e759-4399-b964-1f148faa25f2"
      },
      "execution_count": null,
      "outputs": [
        {
          "output_type": "execute_result",
          "data": {
            "text/plain": [
              "count                      10000\n",
              "unique                       456\n",
              "top       Restaurant,Pizza Place\n",
              "freq                        2690\n",
              "Name: categories, dtype: object"
            ]
          },
          "metadata": {},
          "execution_count": 51
        }
      ]
    },
    {
      "cell_type": "code",
      "source": [
        "Pizz_b['primaryCategories'].describe()"
      ],
      "metadata": {
        "colab": {
          "base_uri": "https://localhost:8080/"
        },
        "id": "JQ96o8MxqS-Z",
        "outputId": "d065cc64-06bc-451b-e27b-cda8c4ea2a65"
      },
      "execution_count": null,
      "outputs": [
        {
          "output_type": "execute_result",
          "data": {
            "text/plain": [
              "count                             10000\n",
              "unique                                8\n",
              "top       Accommodation & Food Services\n",
              "freq                               9909\n",
              "Name: primaryCategories, dtype: object"
            ]
          },
          "metadata": {},
          "execution_count": 52
        }
      ]
    },
    {
      "cell_type": "code",
      "source": [
        "Pizz_b['country'].describe()"
      ],
      "metadata": {
        "colab": {
          "base_uri": "https://localhost:8080/"
        },
        "id": "n1BBwtuvCjOe",
        "outputId": "a4f77675-7224-4e17-b384-fde7b92e6257"
      },
      "execution_count": null,
      "outputs": [
        {
          "output_type": "execute_result",
          "data": {
            "text/plain": [
              "count     10000\n",
              "unique        1\n",
              "top          US\n",
              "freq      10000\n",
              "Name: country, dtype: object"
            ]
          },
          "metadata": {},
          "execution_count": 53
        }
      ]
    },
    {
      "cell_type": "code",
      "source": [
        "Pizz_b['keys'].describe()"
      ],
      "metadata": {
        "colab": {
          "base_uri": "https://localhost:8080/"
        },
        "id": "AnwK9WNdCw11",
        "outputId": "ba3ef88f-5730-4a13-9f66-a07e40956c16"
      },
      "execution_count": null,
      "outputs": [
        {
          "output_type": "execute_result",
          "data": {
            "text/plain": [
              "count                                          10000\n",
              "unique                                          2285\n",
              "top       us/ny/flushing/6501kissenablvd/-1686688850\n",
              "freq                                              68\n",
              "Name: keys, dtype: object"
            ]
          },
          "metadata": {},
          "execution_count": 54
        }
      ]
    },
    {
      "cell_type": "code",
      "source": [
        "Pizz_b['menus.currency'].describe()"
      ],
      "metadata": {
        "colab": {
          "base_uri": "https://localhost:8080/"
        },
        "id": "BMXP_ZxYC3tN",
        "outputId": "faa81271-1076-4b96-be51-0b5d43679f19"
      },
      "execution_count": null,
      "outputs": [
        {
          "output_type": "execute_result",
          "data": {
            "text/plain": [
              "count     10000\n",
              "unique        1\n",
              "top         USD\n",
              "freq      10000\n",
              "Name: menus.currency, dtype: object"
            ]
          },
          "metadata": {},
          "execution_count": 55
        }
      ]
    },
    {
      "cell_type": "code",
      "source": [
        "Pizz_b['menus.dateSeen'].describe()"
      ],
      "metadata": {
        "colab": {
          "base_uri": "https://localhost:8080/"
        },
        "id": "eQJKBfslDmAx",
        "outputId": "33e9899a-d6ec-47ca-e386-98ce67ac1154"
      },
      "execution_count": null,
      "outputs": [
        {
          "output_type": "execute_result",
          "data": {
            "text/plain": [
              "count                    10000\n",
              "unique                    6303\n",
              "top       2016-04-01T06:37:20Z\n",
              "freq                        21\n",
              "Name: menus.dateSeen, dtype: object"
            ]
          },
          "metadata": {},
          "execution_count": 56
        }
      ]
    },
    {
      "cell_type": "code",
      "source": [
        "Pizz_b['menus.name'].describe()"
      ],
      "metadata": {
        "colab": {
          "base_uri": "https://localhost:8080/"
        },
        "id": "vnfbEDEiD14c",
        "outputId": "d234ff59-798e-48aa-a52f-8998b1cb9473"
      },
      "execution_count": null,
      "outputs": [
        {
          "output_type": "execute_result",
          "data": {
            "text/plain": [
              "count            10000\n",
              "unique            4749\n",
              "top       Cheese Pizza\n",
              "freq               299\n",
              "Name: menus.name, dtype: object"
            ]
          },
          "metadata": {},
          "execution_count": 57
        }
      ]
    },
    {
      "cell_type": "code",
      "source": [
        "Pizz_b['menus.description'].describe()"
      ],
      "metadata": {
        "colab": {
          "base_uri": "https://localhost:8080/"
        },
        "id": "URL_y9-2EAXV",
        "outputId": "88bf9dd4-c4ed-4270-9bf8-d1facf4fcdba"
      },
      "execution_count": null,
      "outputs": [
        {
          "output_type": "execute_result",
          "data": {
            "text/plain": [
              "count                              3718\n",
              "unique                             2963\n",
              "top       With cheese and tomato sauce.\n",
              "freq                                 48\n",
              "Name: menus.description, dtype: object"
            ]
          },
          "metadata": {},
          "execution_count": 58
        }
      ]
    },
    {
      "cell_type": "code",
      "source": [
        "Pizz_b['name'].describe()"
      ],
      "metadata": {
        "colab": {
          "base_uri": "https://localhost:8080/"
        },
        "id": "N8SALKbFEEtx",
        "outputId": "c73b504f-5737-4169-a85f-b5b1b0ff359f"
      },
      "execution_count": null,
      "outputs": [
        {
          "output_type": "execute_result",
          "data": {
            "text/plain": [
              "count                        10000\n",
              "unique                        1827\n",
              "top       California Pizza Kitchen\n",
              "freq                           261\n",
              "Name: name, dtype: object"
            ]
          },
          "metadata": {},
          "execution_count": 59
        }
      ]
    },
    {
      "cell_type": "code",
      "source": [
        "Pizz_b['province'].describe()"
      ],
      "metadata": {
        "colab": {
          "base_uri": "https://localhost:8080/"
        },
        "id": "cjHkEDyDETQW",
        "outputId": "44febdaa-532c-4e62-9592-68ff51e9911c"
      },
      "execution_count": null,
      "outputs": [
        {
          "output_type": "execute_result",
          "data": {
            "text/plain": [
              "count     10000\n",
              "unique       44\n",
              "top          NY\n",
              "freq       2640\n",
              "Name: province, dtype: object"
            ]
          },
          "metadata": {},
          "execution_count": 60
        }
      ]
    },
    {
      "cell_type": "markdown",
      "source": [
        "Using .describe() to find the count and freq of the Categorical variables."
      ],
      "metadata": {
        "id": "A6THT6hhpbGn"
      }
    },
    {
      "cell_type": "code",
      "source": [
        "Pizz_new=Pizz_b.drop(['menuPageURL'],axis='columns')\n",
        "Pizz_new=Pizz_b.drop(['menus.description'],axis='columns')\n",
        "Pizz_new.info()"
      ],
      "metadata": {
        "colab": {
          "base_uri": "https://localhost:8080/"
        },
        "id": "7BSbQbKzKaDX",
        "outputId": "0e6dbea0-ff33-40ab-bf42-f316780e45f7"
      },
      "execution_count": null,
      "outputs": [
        {
          "output_type": "stream",
          "name": "stdout",
          "text": [
            "<class 'pandas.core.frame.DataFrame'>\n",
            "RangeIndex: 10000 entries, 0 to 9999\n",
            "Data columns (total 25 columns):\n",
            " #   Column              Non-Null Count  Dtype  \n",
            "---  ------              --------------  -----  \n",
            " 0   id                  10000 non-null  object \n",
            " 1   dateAdded           10000 non-null  object \n",
            " 2   dateUpdated         10000 non-null  object \n",
            " 3   address             10000 non-null  object \n",
            " 4   categories          10000 non-null  object \n",
            " 5   primaryCategories   10000 non-null  object \n",
            " 6   city                10000 non-null  object \n",
            " 7   country             10000 non-null  object \n",
            " 8   keys                10000 non-null  object \n",
            " 9   latitude            10000 non-null  float64\n",
            " 10  longitude           10000 non-null  float64\n",
            " 11  menuPageURL         1679 non-null   object \n",
            " 12  menus.amountMax     10000 non-null  float64\n",
            " 13  menus.amountMin     10000 non-null  float64\n",
            " 14  menus.currency      10000 non-null  object \n",
            " 15  menus.dateSeen      10000 non-null  object \n",
            " 16  menus.name          10000 non-null  object \n",
            " 17  name                10000 non-null  object \n",
            " 18  postalCode          9996 non-null   object \n",
            " 19  priceRangeCurrency  10000 non-null  object \n",
            " 20  priceRangeMin       10000 non-null  int64  \n",
            " 21  priceRangeMax       10000 non-null  int64  \n",
            " 22  province            10000 non-null  object \n",
            " 23  Unnamed: 24         0 non-null      float64\n",
            " 24  Unnamed: 25         0 non-null      float64\n",
            "dtypes: float64(6), int64(2), object(17)\n",
            "memory usage: 1.9+ MB\n"
          ]
        }
      ]
    },
    {
      "cell_type": "markdown",
      "source": [
        "Extracting only the Menus URL and Menus description."
      ],
      "metadata": {
        "id": "9wi7ZY7eKaX_"
      }
    },
    {
      "cell_type": "code",
      "source": [
        "Pizz_new.head()"
      ],
      "metadata": {
        "id": "zl22dWRJM5MF",
        "colab": {
          "base_uri": "https://localhost:8080/",
          "height": 490
        },
        "outputId": "d05f817a-c144-4663-9c74-bd9d77b8139b"
      },
      "execution_count": null,
      "outputs": [
        {
          "output_type": "execute_result",
          "data": {
            "text/plain": [
              "                     id             dateAdded           dateUpdated  \\\n",
              "0  AVz3Y-7h3D1zeR_xDAqm  2017-06-30T05:05:40Z  2019-05-01T15:43:09Z   \n",
              "1  AVweGPFF_7pvs4fzAAzQ  2016-04-02T04:02:49Z  2019-05-01T15:27:50Z   \n",
              "2  AVwdRGa9_7pvs4fz4E3K  2016-03-03T18:39:49Z  2019-05-01T12:52:25Z   \n",
              "3  AVwdX4psIN2L1WUfvJB1  2016-03-29T05:08:59Z  2019-05-01T12:52:20Z   \n",
              "4  AVwdaeTtkufWRAb55pSH  2016-03-31T02:34:04Z  2019-05-01T12:50:45Z   \n",
              "\n",
              "             address                                         categories  \\\n",
              "0   4203 E Kiehl Ave  Pizza,Restaurant,American restaurants,Pizza Pl...   \n",
              "1  25 E Camelback Rd                      Pizza,Pizza Place,Restaurants   \n",
              "2    3703 Paxton Ave                 Restaurant,Pizza Place,Restaurants   \n",
              "3    30495 John R Rd       Pizza,Carry-out food,Pizza Place,Restaurants   \n",
              "4   3600 Eastern Ave  Pizza,American restaurants,Pizza Place,Pizza e...   \n",
              "\n",
              "               primaryCategories             city country  \\\n",
              "0  Accommodation & Food Services         Sherwood      US   \n",
              "1  Accommodation & Food Services          Phoenix      US   \n",
              "2  Accommodation & Food Services       Cincinnati      US   \n",
              "3  Accommodation & Food Services  Madison Heights      US   \n",
              "4  Accommodation & Food Services        Baltimore      US   \n",
              "\n",
              "                                           keys   latitude  ...  \\\n",
              "0      us/ar/sherwood/4203ekiehlave/-1051391616  34.832300  ...   \n",
              "1       us/az/phoenix/25ecamelbackrd/-727422936  33.509266  ...   \n",
              "2     us/oh/cincinnati/3703paxtonave/-619797122  39.144883  ...   \n",
              "3  us/mi/madisonheights/30495johnrrd/-874863116  42.516669  ...   \n",
              "4    us/md/baltimore/3600easternave/-1270965359  39.286630  ...   \n",
              "\n",
              "                                      menus.dateSeen    menus.name  \\\n",
              "0  2018-05-01T04:25:37.197Z,2018-04-16T04:36:02.3...  Cheese Pizza   \n",
              "1  2018-03-03T02:38:06.381Z,2018-01-18T20:18:10.0...  Pizza Cookie   \n",
              "2  2018-04-10T07:58:34.585Z,2018-04-21T05:43:21.4...  Pizza Blanca   \n",
              "3          2016-10-20T21:50:02Z,2016-03-29T05:08:59Z   Small Pizza   \n",
              "4                               2016-03-31T02:34:04Z     Pizza Sub   \n",
              "\n",
              "                  name  postalCode priceRangeCurrency priceRangeMin  \\\n",
              "0   Shotgun Dans Pizza       72120                USD             0   \n",
              "1     Sauce Pizza Wine       85012                USD             0   \n",
              "2        Mios Pizzeria       45209                USD             0   \n",
              "3  Hungry Howies Pizza       48071                USD            25   \n",
              "4     Spartan Pizzeria       21224                USD             0   \n",
              "\n",
              "  priceRangeMax province Unnamed: 24 Unnamed: 25  \n",
              "0            25       AR         NaN         NaN  \n",
              "1            25       AZ         NaN         NaN  \n",
              "2            25       OH         NaN         NaN  \n",
              "3            40       MI         NaN         NaN  \n",
              "4            25       MD         NaN         NaN  \n",
              "\n",
              "[5 rows x 25 columns]"
            ],
            "text/html": [
              "\n",
              "  <div id=\"df-31410f00-caf2-4fda-bc9d-094e36ab2520\">\n",
              "    <div class=\"colab-df-container\">\n",
              "      <div>\n",
              "<style scoped>\n",
              "    .dataframe tbody tr th:only-of-type {\n",
              "        vertical-align: middle;\n",
              "    }\n",
              "\n",
              "    .dataframe tbody tr th {\n",
              "        vertical-align: top;\n",
              "    }\n",
              "\n",
              "    .dataframe thead th {\n",
              "        text-align: right;\n",
              "    }\n",
              "</style>\n",
              "<table border=\"1\" class=\"dataframe\">\n",
              "  <thead>\n",
              "    <tr style=\"text-align: right;\">\n",
              "      <th></th>\n",
              "      <th>id</th>\n",
              "      <th>dateAdded</th>\n",
              "      <th>dateUpdated</th>\n",
              "      <th>address</th>\n",
              "      <th>categories</th>\n",
              "      <th>primaryCategories</th>\n",
              "      <th>city</th>\n",
              "      <th>country</th>\n",
              "      <th>keys</th>\n",
              "      <th>latitude</th>\n",
              "      <th>...</th>\n",
              "      <th>menus.dateSeen</th>\n",
              "      <th>menus.name</th>\n",
              "      <th>name</th>\n",
              "      <th>postalCode</th>\n",
              "      <th>priceRangeCurrency</th>\n",
              "      <th>priceRangeMin</th>\n",
              "      <th>priceRangeMax</th>\n",
              "      <th>province</th>\n",
              "      <th>Unnamed: 24</th>\n",
              "      <th>Unnamed: 25</th>\n",
              "    </tr>\n",
              "  </thead>\n",
              "  <tbody>\n",
              "    <tr>\n",
              "      <th>0</th>\n",
              "      <td>AVz3Y-7h3D1zeR_xDAqm</td>\n",
              "      <td>2017-06-30T05:05:40Z</td>\n",
              "      <td>2019-05-01T15:43:09Z</td>\n",
              "      <td>4203 E Kiehl Ave</td>\n",
              "      <td>Pizza,Restaurant,American restaurants,Pizza Pl...</td>\n",
              "      <td>Accommodation &amp; Food Services</td>\n",
              "      <td>Sherwood</td>\n",
              "      <td>US</td>\n",
              "      <td>us/ar/sherwood/4203ekiehlave/-1051391616</td>\n",
              "      <td>34.832300</td>\n",
              "      <td>...</td>\n",
              "      <td>2018-05-01T04:25:37.197Z,2018-04-16T04:36:02.3...</td>\n",
              "      <td>Cheese Pizza</td>\n",
              "      <td>Shotgun Dans Pizza</td>\n",
              "      <td>72120</td>\n",
              "      <td>USD</td>\n",
              "      <td>0</td>\n",
              "      <td>25</td>\n",
              "      <td>AR</td>\n",
              "      <td>NaN</td>\n",
              "      <td>NaN</td>\n",
              "    </tr>\n",
              "    <tr>\n",
              "      <th>1</th>\n",
              "      <td>AVweGPFF_7pvs4fzAAzQ</td>\n",
              "      <td>2016-04-02T04:02:49Z</td>\n",
              "      <td>2019-05-01T15:27:50Z</td>\n",
              "      <td>25 E Camelback Rd</td>\n",
              "      <td>Pizza,Pizza Place,Restaurants</td>\n",
              "      <td>Accommodation &amp; Food Services</td>\n",
              "      <td>Phoenix</td>\n",
              "      <td>US</td>\n",
              "      <td>us/az/phoenix/25ecamelbackrd/-727422936</td>\n",
              "      <td>33.509266</td>\n",
              "      <td>...</td>\n",
              "      <td>2018-03-03T02:38:06.381Z,2018-01-18T20:18:10.0...</td>\n",
              "      <td>Pizza Cookie</td>\n",
              "      <td>Sauce Pizza Wine</td>\n",
              "      <td>85012</td>\n",
              "      <td>USD</td>\n",
              "      <td>0</td>\n",
              "      <td>25</td>\n",
              "      <td>AZ</td>\n",
              "      <td>NaN</td>\n",
              "      <td>NaN</td>\n",
              "    </tr>\n",
              "    <tr>\n",
              "      <th>2</th>\n",
              "      <td>AVwdRGa9_7pvs4fz4E3K</td>\n",
              "      <td>2016-03-03T18:39:49Z</td>\n",
              "      <td>2019-05-01T12:52:25Z</td>\n",
              "      <td>3703 Paxton Ave</td>\n",
              "      <td>Restaurant,Pizza Place,Restaurants</td>\n",
              "      <td>Accommodation &amp; Food Services</td>\n",
              "      <td>Cincinnati</td>\n",
              "      <td>US</td>\n",
              "      <td>us/oh/cincinnati/3703paxtonave/-619797122</td>\n",
              "      <td>39.144883</td>\n",
              "      <td>...</td>\n",
              "      <td>2018-04-10T07:58:34.585Z,2018-04-21T05:43:21.4...</td>\n",
              "      <td>Pizza Blanca</td>\n",
              "      <td>Mios Pizzeria</td>\n",
              "      <td>45209</td>\n",
              "      <td>USD</td>\n",
              "      <td>0</td>\n",
              "      <td>25</td>\n",
              "      <td>OH</td>\n",
              "      <td>NaN</td>\n",
              "      <td>NaN</td>\n",
              "    </tr>\n",
              "    <tr>\n",
              "      <th>3</th>\n",
              "      <td>AVwdX4psIN2L1WUfvJB1</td>\n",
              "      <td>2016-03-29T05:08:59Z</td>\n",
              "      <td>2019-05-01T12:52:20Z</td>\n",
              "      <td>30495 John R Rd</td>\n",
              "      <td>Pizza,Carry-out food,Pizza Place,Restaurants</td>\n",
              "      <td>Accommodation &amp; Food Services</td>\n",
              "      <td>Madison Heights</td>\n",
              "      <td>US</td>\n",
              "      <td>us/mi/madisonheights/30495johnrrd/-874863116</td>\n",
              "      <td>42.516669</td>\n",
              "      <td>...</td>\n",
              "      <td>2016-10-20T21:50:02Z,2016-03-29T05:08:59Z</td>\n",
              "      <td>Small Pizza</td>\n",
              "      <td>Hungry Howies Pizza</td>\n",
              "      <td>48071</td>\n",
              "      <td>USD</td>\n",
              "      <td>25</td>\n",
              "      <td>40</td>\n",
              "      <td>MI</td>\n",
              "      <td>NaN</td>\n",
              "      <td>NaN</td>\n",
              "    </tr>\n",
              "    <tr>\n",
              "      <th>4</th>\n",
              "      <td>AVwdaeTtkufWRAb55pSH</td>\n",
              "      <td>2016-03-31T02:34:04Z</td>\n",
              "      <td>2019-05-01T12:50:45Z</td>\n",
              "      <td>3600 Eastern Ave</td>\n",
              "      <td>Pizza,American restaurants,Pizza Place,Pizza e...</td>\n",
              "      <td>Accommodation &amp; Food Services</td>\n",
              "      <td>Baltimore</td>\n",
              "      <td>US</td>\n",
              "      <td>us/md/baltimore/3600easternave/-1270965359</td>\n",
              "      <td>39.286630</td>\n",
              "      <td>...</td>\n",
              "      <td>2016-03-31T02:34:04Z</td>\n",
              "      <td>Pizza Sub</td>\n",
              "      <td>Spartan Pizzeria</td>\n",
              "      <td>21224</td>\n",
              "      <td>USD</td>\n",
              "      <td>0</td>\n",
              "      <td>25</td>\n",
              "      <td>MD</td>\n",
              "      <td>NaN</td>\n",
              "      <td>NaN</td>\n",
              "    </tr>\n",
              "  </tbody>\n",
              "</table>\n",
              "<p>5 rows × 25 columns</p>\n",
              "</div>\n",
              "      <button class=\"colab-df-convert\" onclick=\"convertToInteractive('df-31410f00-caf2-4fda-bc9d-094e36ab2520')\"\n",
              "              title=\"Convert this dataframe to an interactive table.\"\n",
              "              style=\"display:none;\">\n",
              "        \n",
              "  <svg xmlns=\"http://www.w3.org/2000/svg\" height=\"24px\"viewBox=\"0 0 24 24\"\n",
              "       width=\"24px\">\n",
              "    <path d=\"M0 0h24v24H0V0z\" fill=\"none\"/>\n",
              "    <path d=\"M18.56 5.44l.94 2.06.94-2.06 2.06-.94-2.06-.94-.94-2.06-.94 2.06-2.06.94zm-11 1L8.5 8.5l.94-2.06 2.06-.94-2.06-.94L8.5 2.5l-.94 2.06-2.06.94zm10 10l.94 2.06.94-2.06 2.06-.94-2.06-.94-.94-2.06-.94 2.06-2.06.94z\"/><path d=\"M17.41 7.96l-1.37-1.37c-.4-.4-.92-.59-1.43-.59-.52 0-1.04.2-1.43.59L10.3 9.45l-7.72 7.72c-.78.78-.78 2.05 0 2.83L4 21.41c.39.39.9.59 1.41.59.51 0 1.02-.2 1.41-.59l7.78-7.78 2.81-2.81c.8-.78.8-2.07 0-2.86zM5.41 20L4 18.59l7.72-7.72 1.47 1.35L5.41 20z\"/>\n",
              "  </svg>\n",
              "      </button>\n",
              "      \n",
              "  <style>\n",
              "    .colab-df-container {\n",
              "      display:flex;\n",
              "      flex-wrap:wrap;\n",
              "      gap: 12px;\n",
              "    }\n",
              "\n",
              "    .colab-df-convert {\n",
              "      background-color: #E8F0FE;\n",
              "      border: none;\n",
              "      border-radius: 50%;\n",
              "      cursor: pointer;\n",
              "      display: none;\n",
              "      fill: #1967D2;\n",
              "      height: 32px;\n",
              "      padding: 0 0 0 0;\n",
              "      width: 32px;\n",
              "    }\n",
              "\n",
              "    .colab-df-convert:hover {\n",
              "      background-color: #E2EBFA;\n",
              "      box-shadow: 0px 1px 2px rgba(60, 64, 67, 0.3), 0px 1px 3px 1px rgba(60, 64, 67, 0.15);\n",
              "      fill: #174EA6;\n",
              "    }\n",
              "\n",
              "    [theme=dark] .colab-df-convert {\n",
              "      background-color: #3B4455;\n",
              "      fill: #D2E3FC;\n",
              "    }\n",
              "\n",
              "    [theme=dark] .colab-df-convert:hover {\n",
              "      background-color: #434B5C;\n",
              "      box-shadow: 0px 1px 3px 1px rgba(0, 0, 0, 0.15);\n",
              "      filter: drop-shadow(0px 1px 2px rgba(0, 0, 0, 0.3));\n",
              "      fill: #FFFFFF;\n",
              "    }\n",
              "  </style>\n",
              "\n",
              "      <script>\n",
              "        const buttonEl =\n",
              "          document.querySelector('#df-31410f00-caf2-4fda-bc9d-094e36ab2520 button.colab-df-convert');\n",
              "        buttonEl.style.display =\n",
              "          google.colab.kernel.accessAllowed ? 'block' : 'none';\n",
              "\n",
              "        async function convertToInteractive(key) {\n",
              "          const element = document.querySelector('#df-31410f00-caf2-4fda-bc9d-094e36ab2520');\n",
              "          const dataTable =\n",
              "            await google.colab.kernel.invokeFunction('convertToInteractive',\n",
              "                                                     [key], {});\n",
              "          if (!dataTable) return;\n",
              "\n",
              "          const docLinkHtml = 'Like what you see? Visit the ' +\n",
              "            '<a target=\"_blank\" href=https://colab.research.google.com/notebooks/data_table.ipynb>data table notebook</a>'\n",
              "            + ' to learn more about interactive tables.';\n",
              "          element.innerHTML = '';\n",
              "          dataTable['output_type'] = 'display_data';\n",
              "          await google.colab.output.renderOutput(dataTable, element);\n",
              "          const docLink = document.createElement('div');\n",
              "          docLink.innerHTML = docLinkHtml;\n",
              "          element.appendChild(docLink);\n",
              "        }\n",
              "      </script>\n",
              "    </div>\n",
              "  </div>\n",
              "  "
            ]
          },
          "metadata": {},
          "execution_count": 62
        }
      ]
    },
    {
      "cell_type": "code",
      "source": [
        "Pizz_new[Pizz_new['province'] == 'MD'].median()"
      ],
      "metadata": {
        "colab": {
          "base_uri": "https://localhost:8080/"
        },
        "id": "alwCcT6jAOTa",
        "outputId": "ec412bbe-7fba-4574-f9df-d0c753e9d48a"
      },
      "execution_count": null,
      "outputs": [
        {
          "output_type": "stream",
          "name": "stderr",
          "text": [
            "/usr/local/lib/python3.7/dist-packages/ipykernel_launcher.py:1: FutureWarning: Dropping of nuisance columns in DataFrame reductions (with 'numeric_only=None') is deprecated; in a future version this will raise TypeError.  Select only valid columns before calling the reduction.\n",
            "  \"\"\"Entry point for launching an IPython kernel.\n"
          ]
        },
        {
          "output_type": "execute_result",
          "data": {
            "text/plain": [
              "latitude              39.305015\n",
              "longitude            -76.613502\n",
              "menus.amountMax       10.990000\n",
              "menus.amountMin       10.250000\n",
              "postalCode         21224.000000\n",
              "priceRangeMin          0.000000\n",
              "priceRangeMax         25.000000\n",
              "Unnamed: 24                 NaN\n",
              "Unnamed: 25                 NaN\n",
              "dtype: float64"
            ]
          },
          "metadata": {},
          "execution_count": 63
        }
      ]
    },
    {
      "cell_type": "code",
      "source": [
        "Pizz_new[Pizz_new['province'] == 'MD'].describe()"
      ],
      "metadata": {
        "colab": {
          "base_uri": "https://localhost:8080/",
          "height": 300
        },
        "id": "VWThMphWk1Mu",
        "outputId": "ce6eb0ca-e290-4acb-a30c-1c8841724e01"
      },
      "execution_count": null,
      "outputs": [
        {
          "output_type": "execute_result",
          "data": {
            "text/plain": [
              "         latitude   longitude  menus.amountMax  menus.amountMin  \\\n",
              "count  118.000000  118.000000       118.000000       118.000000   \n",
              "mean    39.255836  -76.625626        11.907288        11.257712   \n",
              "std      0.260662    0.464102         5.163831         5.035568   \n",
              "min     38.340500  -77.529327         2.000000         2.000000   \n",
              "25%     39.276922  -76.772270         8.522500         8.500000   \n",
              "50%     39.305015  -76.613502        10.990000        10.250000   \n",
              "75%     39.403059  -76.523800        15.000000        14.867500   \n",
              "max     39.648404  -75.052121        27.950000        27.950000   \n",
              "\n",
              "       priceRangeMin  priceRangeMax  Unnamed: 24  Unnamed: 25  \n",
              "count     118.000000     118.000000          0.0          0.0  \n",
              "mean        6.144068      28.686441          NaN          NaN  \n",
              "std        10.809362       6.485617          NaN          NaN  \n",
              "min         0.000000      25.000000          NaN          NaN  \n",
              "25%         0.000000      25.000000          NaN          NaN  \n",
              "50%         0.000000      25.000000          NaN          NaN  \n",
              "75%         0.000000      25.000000          NaN          NaN  \n",
              "max        25.000000      40.000000          NaN          NaN  "
            ],
            "text/html": [
              "\n",
              "  <div id=\"df-5e582efc-75d1-4832-b068-d061b4ffed0e\">\n",
              "    <div class=\"colab-df-container\">\n",
              "      <div>\n",
              "<style scoped>\n",
              "    .dataframe tbody tr th:only-of-type {\n",
              "        vertical-align: middle;\n",
              "    }\n",
              "\n",
              "    .dataframe tbody tr th {\n",
              "        vertical-align: top;\n",
              "    }\n",
              "\n",
              "    .dataframe thead th {\n",
              "        text-align: right;\n",
              "    }\n",
              "</style>\n",
              "<table border=\"1\" class=\"dataframe\">\n",
              "  <thead>\n",
              "    <tr style=\"text-align: right;\">\n",
              "      <th></th>\n",
              "      <th>latitude</th>\n",
              "      <th>longitude</th>\n",
              "      <th>menus.amountMax</th>\n",
              "      <th>menus.amountMin</th>\n",
              "      <th>priceRangeMin</th>\n",
              "      <th>priceRangeMax</th>\n",
              "      <th>Unnamed: 24</th>\n",
              "      <th>Unnamed: 25</th>\n",
              "    </tr>\n",
              "  </thead>\n",
              "  <tbody>\n",
              "    <tr>\n",
              "      <th>count</th>\n",
              "      <td>118.000000</td>\n",
              "      <td>118.000000</td>\n",
              "      <td>118.000000</td>\n",
              "      <td>118.000000</td>\n",
              "      <td>118.000000</td>\n",
              "      <td>118.000000</td>\n",
              "      <td>0.0</td>\n",
              "      <td>0.0</td>\n",
              "    </tr>\n",
              "    <tr>\n",
              "      <th>mean</th>\n",
              "      <td>39.255836</td>\n",
              "      <td>-76.625626</td>\n",
              "      <td>11.907288</td>\n",
              "      <td>11.257712</td>\n",
              "      <td>6.144068</td>\n",
              "      <td>28.686441</td>\n",
              "      <td>NaN</td>\n",
              "      <td>NaN</td>\n",
              "    </tr>\n",
              "    <tr>\n",
              "      <th>std</th>\n",
              "      <td>0.260662</td>\n",
              "      <td>0.464102</td>\n",
              "      <td>5.163831</td>\n",
              "      <td>5.035568</td>\n",
              "      <td>10.809362</td>\n",
              "      <td>6.485617</td>\n",
              "      <td>NaN</td>\n",
              "      <td>NaN</td>\n",
              "    </tr>\n",
              "    <tr>\n",
              "      <th>min</th>\n",
              "      <td>38.340500</td>\n",
              "      <td>-77.529327</td>\n",
              "      <td>2.000000</td>\n",
              "      <td>2.000000</td>\n",
              "      <td>0.000000</td>\n",
              "      <td>25.000000</td>\n",
              "      <td>NaN</td>\n",
              "      <td>NaN</td>\n",
              "    </tr>\n",
              "    <tr>\n",
              "      <th>25%</th>\n",
              "      <td>39.276922</td>\n",
              "      <td>-76.772270</td>\n",
              "      <td>8.522500</td>\n",
              "      <td>8.500000</td>\n",
              "      <td>0.000000</td>\n",
              "      <td>25.000000</td>\n",
              "      <td>NaN</td>\n",
              "      <td>NaN</td>\n",
              "    </tr>\n",
              "    <tr>\n",
              "      <th>50%</th>\n",
              "      <td>39.305015</td>\n",
              "      <td>-76.613502</td>\n",
              "      <td>10.990000</td>\n",
              "      <td>10.250000</td>\n",
              "      <td>0.000000</td>\n",
              "      <td>25.000000</td>\n",
              "      <td>NaN</td>\n",
              "      <td>NaN</td>\n",
              "    </tr>\n",
              "    <tr>\n",
              "      <th>75%</th>\n",
              "      <td>39.403059</td>\n",
              "      <td>-76.523800</td>\n",
              "      <td>15.000000</td>\n",
              "      <td>14.867500</td>\n",
              "      <td>0.000000</td>\n",
              "      <td>25.000000</td>\n",
              "      <td>NaN</td>\n",
              "      <td>NaN</td>\n",
              "    </tr>\n",
              "    <tr>\n",
              "      <th>max</th>\n",
              "      <td>39.648404</td>\n",
              "      <td>-75.052121</td>\n",
              "      <td>27.950000</td>\n",
              "      <td>27.950000</td>\n",
              "      <td>25.000000</td>\n",
              "      <td>40.000000</td>\n",
              "      <td>NaN</td>\n",
              "      <td>NaN</td>\n",
              "    </tr>\n",
              "  </tbody>\n",
              "</table>\n",
              "</div>\n",
              "      <button class=\"colab-df-convert\" onclick=\"convertToInteractive('df-5e582efc-75d1-4832-b068-d061b4ffed0e')\"\n",
              "              title=\"Convert this dataframe to an interactive table.\"\n",
              "              style=\"display:none;\">\n",
              "        \n",
              "  <svg xmlns=\"http://www.w3.org/2000/svg\" height=\"24px\"viewBox=\"0 0 24 24\"\n",
              "       width=\"24px\">\n",
              "    <path d=\"M0 0h24v24H0V0z\" fill=\"none\"/>\n",
              "    <path d=\"M18.56 5.44l.94 2.06.94-2.06 2.06-.94-2.06-.94-.94-2.06-.94 2.06-2.06.94zm-11 1L8.5 8.5l.94-2.06 2.06-.94-2.06-.94L8.5 2.5l-.94 2.06-2.06.94zm10 10l.94 2.06.94-2.06 2.06-.94-2.06-.94-.94-2.06-.94 2.06-2.06.94z\"/><path d=\"M17.41 7.96l-1.37-1.37c-.4-.4-.92-.59-1.43-.59-.52 0-1.04.2-1.43.59L10.3 9.45l-7.72 7.72c-.78.78-.78 2.05 0 2.83L4 21.41c.39.39.9.59 1.41.59.51 0 1.02-.2 1.41-.59l7.78-7.78 2.81-2.81c.8-.78.8-2.07 0-2.86zM5.41 20L4 18.59l7.72-7.72 1.47 1.35L5.41 20z\"/>\n",
              "  </svg>\n",
              "      </button>\n",
              "      \n",
              "  <style>\n",
              "    .colab-df-container {\n",
              "      display:flex;\n",
              "      flex-wrap:wrap;\n",
              "      gap: 12px;\n",
              "    }\n",
              "\n",
              "    .colab-df-convert {\n",
              "      background-color: #E8F0FE;\n",
              "      border: none;\n",
              "      border-radius: 50%;\n",
              "      cursor: pointer;\n",
              "      display: none;\n",
              "      fill: #1967D2;\n",
              "      height: 32px;\n",
              "      padding: 0 0 0 0;\n",
              "      width: 32px;\n",
              "    }\n",
              "\n",
              "    .colab-df-convert:hover {\n",
              "      background-color: #E2EBFA;\n",
              "      box-shadow: 0px 1px 2px rgba(60, 64, 67, 0.3), 0px 1px 3px 1px rgba(60, 64, 67, 0.15);\n",
              "      fill: #174EA6;\n",
              "    }\n",
              "\n",
              "    [theme=dark] .colab-df-convert {\n",
              "      background-color: #3B4455;\n",
              "      fill: #D2E3FC;\n",
              "    }\n",
              "\n",
              "    [theme=dark] .colab-df-convert:hover {\n",
              "      background-color: #434B5C;\n",
              "      box-shadow: 0px 1px 3px 1px rgba(0, 0, 0, 0.15);\n",
              "      filter: drop-shadow(0px 1px 2px rgba(0, 0, 0, 0.3));\n",
              "      fill: #FFFFFF;\n",
              "    }\n",
              "  </style>\n",
              "\n",
              "      <script>\n",
              "        const buttonEl =\n",
              "          document.querySelector('#df-5e582efc-75d1-4832-b068-d061b4ffed0e button.colab-df-convert');\n",
              "        buttonEl.style.display =\n",
              "          google.colab.kernel.accessAllowed ? 'block' : 'none';\n",
              "\n",
              "        async function convertToInteractive(key) {\n",
              "          const element = document.querySelector('#df-5e582efc-75d1-4832-b068-d061b4ffed0e');\n",
              "          const dataTable =\n",
              "            await google.colab.kernel.invokeFunction('convertToInteractive',\n",
              "                                                     [key], {});\n",
              "          if (!dataTable) return;\n",
              "\n",
              "          const docLinkHtml = 'Like what you see? Visit the ' +\n",
              "            '<a target=\"_blank\" href=https://colab.research.google.com/notebooks/data_table.ipynb>data table notebook</a>'\n",
              "            + ' to learn more about interactive tables.';\n",
              "          element.innerHTML = '';\n",
              "          dataTable['output_type'] = 'display_data';\n",
              "          await google.colab.output.renderOutput(dataTable, element);\n",
              "          const docLink = document.createElement('div');\n",
              "          docLink.innerHTML = docLinkHtml;\n",
              "          element.appendChild(docLink);\n",
              "        }\n",
              "      </script>\n",
              "    </div>\n",
              "  </div>\n",
              "  "
            ]
          },
          "metadata": {},
          "execution_count": 64
        }
      ]
    },
    {
      "cell_type": "code",
      "source": [
        "Pizz_new[Pizz_new['menus.name'] == 'MD'].value_counts()"
      ],
      "metadata": {
        "colab": {
          "base_uri": "https://localhost:8080/"
        },
        "id": "gi-um_S1xMve",
        "outputId": "bd218433-a332-4d2c-c6bf-752abb995456"
      },
      "execution_count": null,
      "outputs": [
        {
          "output_type": "execute_result",
          "data": {
            "text/plain": [
              "Series([], dtype: int64)"
            ]
          },
          "metadata": {},
          "execution_count": 65
        }
      ]
    },
    {
      "cell_type": "code",
      "source": [
        "Pizz_new['menus.name'].value_counts()"
      ],
      "metadata": {
        "colab": {
          "base_uri": "https://localhost:8080/"
        },
        "id": "0ZFRjHDEWVHp",
        "outputId": "c4d4cd83-3b4f-420f-e1a5-02e00d91618c"
      },
      "execution_count": null,
      "outputs": [
        {
          "output_type": "execute_result",
          "data": {
            "text/plain": [
              "Cheese Pizza                           299\n",
              "White Pizza                            225\n",
              "Hawaiian Pizza                         149\n",
              "Buffalo Chicken Pizza                  112\n",
              "Pizza                                  111\n",
              "                                      ... \n",
              "Personal  Harvest Pizza                  1\n",
              "Personal  Eggplant Parmigiana Pizza      1\n",
              "Personal  San Gennaro Pizza              1\n",
              "White Alfredo Pizza                      1\n",
              "King Arthur's Supreme Pizza              1\n",
              "Name: menus.name, Length: 4749, dtype: int64"
            ]
          },
          "metadata": {},
          "execution_count": 66
        }
      ]
    },
    {
      "cell_type": "code",
      "source": [
        "Pizz_new=Pizz_new[Pizz_new['province']=='MD']"
      ],
      "metadata": {
        "id": "HubilV6JW502"
      },
      "execution_count": null,
      "outputs": []
    },
    {
      "cell_type": "code",
      "source": [
        "Pizz_new[Pizz_new['menus.name'] == 'White Pizza'].median()"
      ],
      "metadata": {
        "colab": {
          "base_uri": "https://localhost:8080/"
        },
        "id": "rCa0R1rfVTgb",
        "outputId": "326b406d-3811-4862-b3f7-2ed2bddded5c"
      },
      "execution_count": null,
      "outputs": [
        {
          "output_type": "stream",
          "name": "stderr",
          "text": [
            "/usr/local/lib/python3.7/dist-packages/ipykernel_launcher.py:1: FutureWarning: Dropping of nuisance columns in DataFrame reductions (with 'numeric_only=None') is deprecated; in a future version this will raise TypeError.  Select only valid columns before calling the reduction.\n",
            "  \"\"\"Entry point for launching an IPython kernel.\n"
          ]
        },
        {
          "output_type": "execute_result",
          "data": {
            "text/plain": [
              "latitude              39.304682\n",
              "longitude            -76.588833\n",
              "menuPageURL                 NaN\n",
              "menus.amountMax       11.370000\n",
              "menus.amountMin        9.990000\n",
              "postalCode         21225.500000\n",
              "priceRangeMin          0.000000\n",
              "priceRangeMax         25.000000\n",
              "Unnamed: 24                 NaN\n",
              "Unnamed: 25                 NaN\n",
              "dtype: float64"
            ]
          },
          "metadata": {},
          "execution_count": 68
        }
      ]
    },
    {
      "cell_type": "code",
      "source": [
        "Pizz_new[Pizz_new['menus.name'] == 'Pizza Sub'].median()"
      ],
      "metadata": {
        "colab": {
          "base_uri": "https://localhost:8080/"
        },
        "id": "6m1RwouOXjNt",
        "outputId": "73a070e7-4692-4f76-a7f8-61aefd450adc"
      },
      "execution_count": null,
      "outputs": [
        {
          "output_type": "stream",
          "name": "stderr",
          "text": [
            "/usr/local/lib/python3.7/dist-packages/ipykernel_launcher.py:1: FutureWarning: Dropping of nuisance columns in DataFrame reductions (with 'numeric_only=None') is deprecated; in a future version this will raise TypeError.  Select only valid columns before calling the reduction.\n",
            "  \"\"\"Entry point for launching an IPython kernel.\n"
          ]
        },
        {
          "output_type": "execute_result",
          "data": {
            "text/plain": [
              "latitude              39.435362\n",
              "longitude            -76.316397\n",
              "menus.amountMax        8.690000\n",
              "menus.amountMin        5.990000\n",
              "postalCode         21040.000000\n",
              "priceRangeMin          0.000000\n",
              "priceRangeMax         25.000000\n",
              "Unnamed: 24                 NaN\n",
              "Unnamed: 25                 NaN\n",
              "dtype: float64"
            ]
          },
          "metadata": {},
          "execution_count": 69
        }
      ]
    },
    {
      "cell_type": "code",
      "source": [
        "Pizz_new[Pizz_new['menus.name'] == 'Pizza'].median()"
      ],
      "metadata": {
        "colab": {
          "base_uri": "https://localhost:8080/"
        },
        "id": "MF9Z-SwQYOnT",
        "outputId": "cd9913ac-9811-400d-8e49-9da926b76f58"
      },
      "execution_count": null,
      "outputs": [
        {
          "output_type": "stream",
          "name": "stderr",
          "text": [
            "/usr/local/lib/python3.7/dist-packages/ipykernel_launcher.py:1: FutureWarning: Dropping of nuisance columns in DataFrame reductions (with 'numeric_only=None') is deprecated; in a future version this will raise TypeError.  Select only valid columns before calling the reduction.\n",
            "  \"\"\"Entry point for launching an IPython kernel.\n"
          ]
        },
        {
          "output_type": "execute_result",
          "data": {
            "text/plain": [
              "latitude              39.435362\n",
              "longitude            -76.316397\n",
              "menuPageURL                 NaN\n",
              "menus.amountMax       12.890000\n",
              "menus.amountMin       12.890000\n",
              "postalCode         21040.000000\n",
              "priceRangeMin          0.000000\n",
              "priceRangeMax         25.000000\n",
              "Unnamed: 24                 NaN\n",
              "Unnamed: 25                 NaN\n",
              "dtype: float64"
            ]
          },
          "metadata": {},
          "execution_count": 70
        }
      ]
    },
    {
      "cell_type": "code",
      "source": [
        "Pizz_new[Pizz_new['menus.name'] == 'Cheese Pizza'].median()"
      ],
      "metadata": {
        "colab": {
          "base_uri": "https://localhost:8080/"
        },
        "id": "53FQqrJBvK9f",
        "outputId": "3f8687d3-14a0-40bd-9b71-4252cd5f3455"
      },
      "execution_count": null,
      "outputs": [
        {
          "output_type": "stream",
          "name": "stderr",
          "text": [
            "/usr/local/lib/python3.7/dist-packages/ipykernel_launcher.py:1: FutureWarning: Dropping of nuisance columns in DataFrame reductions (with 'numeric_only=None') is deprecated; in a future version this will raise TypeError.  Select only valid columns before calling the reduction.\n",
            "  \"\"\"Entry point for launching an IPython kernel.\n"
          ]
        },
        {
          "output_type": "execute_result",
          "data": {
            "text/plain": [
              "latitude              38.9798\n",
              "longitude            -76.5238\n",
              "menuPageURL               NaN\n",
              "menus.amountMax       13.9900\n",
              "menus.amountMin       13.9900\n",
              "postalCode         21401.0000\n",
              "priceRangeMin          0.0000\n",
              "priceRangeMax         25.0000\n",
              "Unnamed: 24               NaN\n",
              "Unnamed: 25               NaN\n",
              "dtype: float64"
            ]
          },
          "metadata": {},
          "execution_count": 71
        }
      ]
    },
    {
      "cell_type": "code",
      "source": [
        "Pizz_new[Pizz_new['menus.name'] == 'Hawaiian Pizza'].median()"
      ],
      "metadata": {
        "colab": {
          "base_uri": "https://localhost:8080/"
        },
        "id": "flV8VUAGYZs_",
        "outputId": "10b510e7-f7b8-47bb-a601-95c32421d591"
      },
      "execution_count": null,
      "outputs": [
        {
          "output_type": "stream",
          "name": "stderr",
          "text": [
            "/usr/local/lib/python3.7/dist-packages/ipykernel_launcher.py:1: FutureWarning: Dropping of nuisance columns in DataFrame reductions (with 'numeric_only=None') is deprecated; in a future version this will raise TypeError.  Select only valid columns before calling the reduction.\n",
            "  \"\"\"Entry point for launching an IPython kernel.\n"
          ]
        },
        {
          "output_type": "execute_result",
          "data": {
            "text/plain": [
              "latitude              39.322735\n",
              "longitude            -76.987969\n",
              "menuPageURL                 NaN\n",
              "menus.amountMax       15.990000\n",
              "menus.amountMin        9.990000\n",
              "postalCode         21244.000000\n",
              "priceRangeMin         25.000000\n",
              "priceRangeMax         40.000000\n",
              "Unnamed: 24                 NaN\n",
              "Unnamed: 25                 NaN\n",
              "dtype: float64"
            ]
          },
          "metadata": {},
          "execution_count": 72
        }
      ]
    },
    {
      "cell_type": "code",
      "source": [
        "Pizz_new['city'].value_counts()"
      ],
      "metadata": {
        "colab": {
          "base_uri": "https://localhost:8080/"
        },
        "id": "Vj-veYnhcSaj",
        "outputId": "e34ba2a4-6e65-437e-c676-0b81f4946687"
      },
      "execution_count": null,
      "outputs": [
        {
          "output_type": "execute_result",
          "data": {
            "text/plain": [
              "Baltimore         50\n",
              "Frederick          9\n",
              "Essex              7\n",
              "Annapolis          7\n",
              "Edgewood           7\n",
              "Ocean City         4\n",
              "Windsor Mill       4\n",
              "Taneytown          4\n",
              "Oxon Hill          4\n",
              "Elkton             3\n",
              "Owings Mills       3\n",
              "Potomac            2\n",
              "Halethorpe         2\n",
              "Salisbury          2\n",
              "Sykesville         2\n",
              "Germantown         2\n",
              "Aberdeen           2\n",
              "Ellicott City      1\n",
              "Point of Rocks     1\n",
              "Laurel             1\n",
              "Riverdale          1\n",
              "Name: city, dtype: int64"
            ]
          },
          "metadata": {},
          "execution_count": 73
        }
      ]
    },
    {
      "cell_type": "code",
      "source": [
        "Pizz_new[Pizz_new['city'] == 'Baltimore'].median()"
      ],
      "metadata": {
        "colab": {
          "base_uri": "https://localhost:8080/"
        },
        "id": "2-KZ48HLXOJh",
        "outputId": "3aee0044-8c6b-42a6-88a2-d5c86d2f5f10"
      },
      "execution_count": null,
      "outputs": [
        {
          "output_type": "stream",
          "name": "stderr",
          "text": [
            "/usr/local/lib/python3.7/dist-packages/ipykernel_launcher.py:1: FutureWarning: Dropping of nuisance columns in DataFrame reductions (with 'numeric_only=None') is deprecated; in a future version this will raise TypeError.  Select only valid columns before calling the reduction.\n",
            "  \"\"\"Entry point for launching an IPython kernel.\n"
          ]
        },
        {
          "output_type": "execute_result",
          "data": {
            "text/plain": [
              "latitude              39.286630\n",
              "longitude            -76.613502\n",
              "menus.amountMax        9.500000\n",
              "menus.amountMin        9.500000\n",
              "postalCode         21224.000000\n",
              "priceRangeMin          0.000000\n",
              "priceRangeMax         25.000000\n",
              "Unnamed: 24                 NaN\n",
              "Unnamed: 25                 NaN\n",
              "dtype: float64"
            ]
          },
          "metadata": {},
          "execution_count": 74
        }
      ]
    },
    {
      "cell_type": "code",
      "source": [
        "Pizz_new[Pizz_new['city'] == 'Germantown'].median()"
      ],
      "metadata": {
        "colab": {
          "base_uri": "https://localhost:8080/"
        },
        "id": "GRbRvscAdy8E",
        "outputId": "81654cb2-5048-4c23-a32b-0000132acc94"
      },
      "execution_count": null,
      "outputs": [
        {
          "output_type": "stream",
          "name": "stderr",
          "text": [
            "/usr/local/lib/python3.7/dist-packages/ipykernel_launcher.py:1: FutureWarning: Dropping of nuisance columns in DataFrame reductions (with 'numeric_only=None') is deprecated; in a future version this will raise TypeError.  Select only valid columns before calling the reduction.\n",
            "  \"\"\"Entry point for launching an IPython kernel.\n"
          ]
        },
        {
          "output_type": "execute_result",
          "data": {
            "text/plain": [
              "latitude              39.191913\n",
              "longitude            -77.243179\n",
              "menuPageURL                 NaN\n",
              "menus.amountMax       11.990000\n",
              "menus.amountMin       11.990000\n",
              "postalCode         20876.000000\n",
              "priceRangeMin          0.000000\n",
              "priceRangeMax         25.000000\n",
              "Unnamed: 24                 NaN\n",
              "Unnamed: 25                 NaN\n",
              "dtype: float64"
            ]
          },
          "metadata": {},
          "execution_count": 75
        }
      ]
    },
    {
      "cell_type": "code",
      "source": [
        "Pizz_new['city'].hist()"
      ],
      "metadata": {
        "colab": {
          "base_uri": "https://localhost:8080/",
          "height": 283
        },
        "id": "Xh4wWriTeXqj",
        "outputId": "133cde24-6102-4dfc-c936-57bfdb3131cd"
      },
      "execution_count": null,
      "outputs": [
        {
          "output_type": "execute_result",
          "data": {
            "text/plain": [
              "<matplotlib.axes._subplots.AxesSubplot at 0x7fb50795d410>"
            ]
          },
          "metadata": {},
          "execution_count": 77
        },
        {
          "output_type": "display_data",
          "data": {
            "text/plain": [
              "<Figure size 432x288 with 1 Axes>"
            ],
            "image/png": "[encoded data removed]"
          },
          "metadata": {
            "needs_background": "light"
          }
        }
      ]
    }
  ]
}